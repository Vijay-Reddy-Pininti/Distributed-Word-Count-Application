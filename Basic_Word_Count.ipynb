{
 "cells": [
  {
   "cell_type": "code",
   "execution_count": 1,
   "id": "263475e6-1acf-4271-a2a1-4c139d9574ac",
   "metadata": {},
   "outputs": [],
   "source": [
    "import findspark\n",
    "from pyspark.sql import SparkSession\n",
    "findspark.init()"
   ]
  },
  {
   "cell_type": "code",
   "execution_count": 2,
   "id": "4d8b1f82-75bf-4768-ad14-af6aef17c55a",
   "metadata": {},
   "outputs": [],
   "source": [
    "def wordCount(input, output, num_common_words):\n",
    "    # Start Spark Session\n",
    "    spark = SparkSession.builder.master(\"local\").appName(\"WordCount\").getOrCreate()\n",
    "    sc = spark.sparkContext\n",
    "\n",
    "    # Read input file\n",
    "    text = sc.textFile(input)\n",
    "\n",
    "    # Convert text to words\n",
    "    words = text.flatMap(lambda x: x.split(' '))\n",
    "\n",
    "    # Give Count of individual words\n",
    "    maps = words.map(lambda x: (x, 1))\n",
    "\n",
    "    # Count of all words\n",
    "    counts = maps.reduceByKey(lambda x,y: x+y)\n",
    "\n",
    "    # Get the commmon 25 words\n",
    "    common = counts.takeOrdered(num_common_words, key = lambda x: -x[1])\n",
    "    \n",
    "    # Save the counts to a file\n",
    "    sc.parallelize(common).saveAsTextFile(output)"
   ]
  },
  {
   "cell_type": "code",
   "execution_count": 3,
   "id": "7326ccae-0f76-49b8-82ea-d318f6cf69e1",
   "metadata": {},
   "outputs": [],
   "source": [
    "# Paths to input and output files\n",
    "input = \"./input/book1.txt\"\n",
    "output = \"./output\"\n",
    "\n",
    "# Number of common words\n",
    "num_common_words = 25\n",
    "\n",
    "# Invoking Word Count function\n",
    "wordCount(input, output, num_common_words)"
   ]
  }
 ],
 "metadata": {
  "kernelspec": {
   "display_name": "Python 3 (ipykernel)",
   "language": "python",
   "name": "python3"
  },
  "language_info": {
   "codemirror_mode": {
    "name": "ipython",
    "version": 3
   },
   "file_extension": ".py",
   "mimetype": "text/x-python",
   "name": "python",
   "nbconvert_exporter": "python",
   "pygments_lexer": "ipython3",
   "version": "3.10.2"
  }
 },
 "nbformat": 4,
 "nbformat_minor": 5
}
